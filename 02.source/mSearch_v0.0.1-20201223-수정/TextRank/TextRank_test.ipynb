{
 "cells": [
  {
   "cell_type": "code",
   "execution_count": 3,
   "metadata": {},
   "outputs": [],
   "source": [
    "from TextRank import TextRank"
   ]
  },
  {
   "cell_type": "code",
   "execution_count": 4,
   "metadata": {},
   "outputs": [],
   "source": [
    "article = \"금융계열사를 거느린 삼성, 현대차, 미래에셋 등 7개 그룹의 자본 적정성을 깐깐하게 보는 금융그룹 통합감독제도가 이달부터 시범 운영에 들어간 가운데, 특정 기업의 지배구조를 압박하는 수단이 될 수 있다는 우려가 나온다. 현재는 금융당국이 자본 적정성 기준선을 100%로 정했지만 향후 상향할 가능성이 있기 때문이다. 새로운 기준이 도입되면 대다수 금융그룹의 자본 적정성이 100%대로 떨어져, 향후 기준선을 상향할 경우 이들 금융그룹엔 큰 부담이 될 수밖에 없다.금융당국 관계자는 2일 문화일보와의 통화에서 “지금 당장은 시범 운영 기간이라 기준선인 100% 이외의 숫자를 제시하지 않았지만 향후 다른 숫자를 제시할 가능성도 있다”면서 “하반기 현장실사와 자본 규제안 세부 기준을 확정하면서 숫자가 달라질 수 있다”고 말했다. 금융당국은 집중위험과 전이위험 산출 기준을 올해 말까지 확정하고 내년 6월까지 모범규준을 수정·보완 계획인데 이 과정에서 자본 적정성 비율을 상향할 가능성을 시사한 셈이다.금융당국은 100%는 최소기준일 뿐 충분한 수준으로는 생각하고 있지 않다. 실제 보험업법의 지급여력비율(RBC) 기준은 100%지만 금융당국은 보험사의 RBC 비율이 150% 밑으로 떨어지면 자본확충을 유도한다.은행권도 국제결제은행(BIS) 기준 자기자본비율 기준치는 8%지만 금융당국의 추가자본확충 요구에 평균 15%대의 비율을 유지하고 있다.만약 금융당국이 금융그룹에 대한 자본 적정성 비율을 현행 100%에서 상향하면 삼성, 현대차, 미래에셋 등 대다수 금융그룹은 이를 맞추기 위해 자본을 확충하거나 비금융 계열사 주식을 매각해야 한다.특히 삼성의 경우 삼성생명이 보유한 삼성전자의 주식을 ‘시가’로 계산한 집중위험 항목을 반영하면 자본 적정성 비율은 110%대로 떨어지는 것으로 나타났다. 20조 원에 달하는 자본을 확충하긴 쉽지 않은 만큼 삼성생명은 삼성전자 주식을 매각하는 방식으로 자본 적정성을 맞출 가능성이 커지는 셈이다.일각에선 금융그룹통합감독제도가 보험업법을 대신해 삼성의 지배구조 개편을 압박하는 데 활용될 것이란 전망도 나온다. 현재 국회에는 보험사가 보유한 계열사 주식을 취득원가 아닌 시가로 평가하는 보험업법 개정안이 발의돼 있는데 야당의 반대로 통과는 어려운 상황이다.국회 정무위 관계자는 “현재 보험업법 통과가 어려워 보이기는 하지만, 이 법이 개정되면 삼성생명은 자산의 3%가 넘는 20조 원가량의 삼성전자 주식을 팔아야 한다”고 말했다.황혜진 기자 best@munhwa.com[Copyrightⓒmunhwa.com '대한민국 오후를 여는 유일석간 문화일보' 무단 전재 및 재배포 금지( 구독신청:02)3701-5555 )]\""
   ]
  },
  {
   "cell_type": "code",
   "execution_count": 5,
   "metadata": {},
   "outputs": [
    {
     "name": "stderr",
     "output_type": "stream",
     "text": [
      "C:\\Data\\anaconda3\\lib\\site-packages\\konlpy\\tag\\_okt.py:16: UserWarning: \"Twitter\" has changed to \"Okt\" since KoNLPy v0.4.5.\n",
      "  warn('\"Twitter\" has changed to \"Okt\" since KoNLPy v0.4.5.')\n"
     ]
    }
   ],
   "source": [
    "textrank = Class_TextRank(article)"
   ]
  },
  {
   "cell_type": "code",
   "execution_count": 6,
   "metadata": {},
   "outputs": [
    {
     "name": "stdout",
     "output_type": "stream",
     "text": [
      "['자본', '금융', '당국', '기준', '삼성', '적정', '비율', '주식', '확정', '시범']\n"
     ]
    }
   ],
   "source": [
    "print(textrank.keywords())"
   ]
  },
  {
   "cell_type": "code",
   "execution_count": 8,
   "metadata": {},
   "outputs": [
    {
     "name": "stdout",
     "output_type": "stream",
     "text": [
      "현재는 금융당국이 자본 적정성 기준 선을 100% 로 정했지만 향후 상향할 가능성이 있기 때문이다.\n",
      "새로운 기준이 도입되면 대다수 금융그룹의 자본 적정성이 100% 대로 떨어져, 향후 기준 선을 상향할 경우 이들 금융그룹엔 큰 부담이 될 수밖에 없다.\n",
      "만약 금융당국이 금융그룹에 대한 자본 적정성 비율을 현행 100%에서 상향하면 삼성, 현대 차, 미래에 셋 등 대다수 금융그룹은 이를 맞추기 위해 자본을 확충하거나 비금융 계열사 주식을 매각해야 한다.\n"
     ]
    }
   ],
   "source": [
    "for row in textrank.summarize(3):\n",
    "    print(row)"
   ]
  }
 ],
 "metadata": {
  "kernelspec": {
   "display_name": "Python 3",
   "language": "python",
   "name": "python3"
  },
  "language_info": {
   "codemirror_mode": {
    "name": "ipython",
    "version": 3
   },
   "file_extension": ".py",
   "mimetype": "text/x-python",
   "name": "python",
   "nbconvert_exporter": "python",
   "pygments_lexer": "ipython3",
   "version": "3.6.4"
  }
 },
 "nbformat": 4,
 "nbformat_minor": 2
}